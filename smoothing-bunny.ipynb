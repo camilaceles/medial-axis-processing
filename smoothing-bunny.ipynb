{
 "cells": [
  {
   "cell_type": "code",
   "execution_count": 1,
   "id": "bff2ced8-1f09-412d-8a90-115549d36a15",
   "metadata": {},
   "outputs": [],
   "source": [
    "from pygel3d import hmesh, jupyter_display as jd, gl_display as gl, graph\n",
    "import numpy as np\n",
    "import math\n",
    "from commons.utils import *\n",
    "from commons.display import *\n",
    "from commons.medial_axis import *\n",
    "from random import random\n",
    "from scipy.spatial import KDTree\n",
    "from medial_axis_processing.smoothing import *\n",
    "from medial_axis_loader import from_qmat, from_dpc, from_coverage_axis\n",
    "\n",
    "%load_ext autoreload\n",
    "%autoreload 2"
   ]
  },
  {
   "cell_type": "code",
   "execution_count": 2,
   "id": "3fc5c5ab-3bee-42fa-be37-528ca30b80d9",
   "metadata": {},
   "outputs": [],
   "source": [
    "input_mesh = hmesh.load(\"data/input/Vanilla_bun_complete_closed.off\")\n",
    "# jd.display(input_mesh)"
   ]
  },
  {
   "cell_type": "code",
   "execution_count": null,
   "id": "1516889f-d246-4806-8609-80c8bbf47f49",
   "metadata": {},
   "outputs": [
    {
     "name": "stdout",
     "output_type": "stream",
     "text": [
      "Chosen minimum gamma: 0.005\n",
      "__map_sheet_correspondences\n",
      "__compute_projections\n"
     ]
    }
   ],
   "source": [
    "ma_input = \"data/qmat/Vanilla_bun_complete_closed.ma___v_5000___e_20722___f_18141.ma\"\n",
    "medial_axis = from_qmat.load(input_mesh, ma_input)"
   ]
  },
  {
   "cell_type": "code",
   "execution_count": null,
   "id": "793ac6ab-7fee-4632-922f-41e1d91fb3d5",
   "metadata": {},
   "outputs": [],
   "source": [
    "with open(\"bunny_medial_axis\", 'wb') as file:\n",
    "    pickle.dump(medial_axis, file)"
   ]
  },
  {
   "cell_type": "code",
   "execution_count": null,
   "id": "7556c2e3-9f49-4dbb-ae11-86a55437b42e",
   "metadata": {},
   "outputs": [],
   "source": [
    "# display_medial_axis(medial_axis)"
   ]
  },
  {
   "cell_type": "code",
   "execution_count": null,
   "id": "0355996b-0ecd-4b18-bd51-d2c5322383ba",
   "metadata": {},
   "outputs": [],
   "source": [
    "simple_smooth(medial_axis)\n",
    "display_mesh(medial_axis.surface)"
   ]
  },
  {
   "cell_type": "code",
   "execution_count": null,
   "id": "5ecf3d82-c20d-4c4e-b261-6d7988e36f55",
   "metadata": {},
   "outputs": [],
   "source": [
    "# display_mesh(input_mesh)"
   ]
  },
  {
   "cell_type": "code",
   "execution_count": null,
   "id": "47910ec7-f28a-474a-a182-96c53acdbad3",
   "metadata": {},
   "outputs": [],
   "source": [
    "# orig = hmesh.load(\"data/input/hand.off\")\n",
    "# display_mesh(orig)"
   ]
  },
  {
   "cell_type": "code",
   "execution_count": null,
   "id": "30b9eb20-ee92-4c72-99b9-7829e2c14a77",
   "metadata": {},
   "outputs": [],
   "source": [
    "# display_mesh_difference(orig, medial_axis.surface)"
   ]
  },
  {
   "cell_type": "code",
   "execution_count": null,
   "id": "97867f94-fa40-434a-be93-b99fdbc239a6",
   "metadata": {},
   "outputs": [],
   "source": []
  }
 ],
 "metadata": {
  "kernelspec": {
   "display_name": "Python 3 (ipykernel)",
   "language": "python",
   "name": "python3"
  },
  "language_info": {
   "codemirror_mode": {
    "name": "ipython",
    "version": 3
   },
   "file_extension": ".py",
   "mimetype": "text/x-python",
   "name": "python",
   "nbconvert_exporter": "python",
   "pygments_lexer": "ipython3",
   "version": "3.10.9"
  }
 },
 "nbformat": 4,
 "nbformat_minor": 5
}
