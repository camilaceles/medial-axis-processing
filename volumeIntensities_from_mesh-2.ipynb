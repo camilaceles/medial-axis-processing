{
 "cells": [
  {
   "cell_type": "code",
   "execution_count": null,
   "id": "7d8be0b1",
   "metadata": {},
   "outputs": [],
   "source": [
    "# Imports\n",
    "import matplotlib.pyplot as plt\n",
    "import numpy as np\n",
    "import nibabel as nib\n",
    "from time import perf_counter as time\n",
    "from scipy.interpolate import RegularGridInterpolator\n",
    "from matplotlib.colors import LightSource\n",
    "from mpl_toolkits.mplot3d.art3d import Poly3DCollection\n",
    "from skimage import measure\n",
    "import scipy.ndimage"
   ]
  },
  {
   "cell_type": "code",
   "execution_count": null,
   "id": "331adc9b",
   "metadata": {},
   "outputs": [],
   "source": [
    "# Import resampled image\n",
    "fileName = 'data/vindelev/X19_resampled_uint8.nii'\n",
    "niiVol = nib.load(fileName)\n",
    "\n",
    "affine = niiVol.affine\n",
    "imgDim = niiVol.header['dim'][1:4]\n",
    "imgSpacing = niiVol.header['pixdim'][1:4]\n",
    "\n",
    "print('Image dimensions and voxel size')\n",
    "print(imgDim)\n",
    "print(imgSpacing)\n",
    "\n",
    "print('\\nThe affine matrix of the original volume')\n",
    "print(affine)"
   ]
  },
  {
   "cell_type": "code",
   "execution_count": null,
   "id": "00b1fc40",
   "metadata": {},
   "outputs": [],
   "source": [
    "# Downsample volume to make the processing faster for this demo\n",
    "\n",
    "factor = 4\n",
    "#newSz = np.floor(np.array(imgDim) / factor).astype(int)\n",
    "\n",
    "# Remember to also scale the pixel-dimension\n",
    "affine = np.copy(affine)\n",
    "affine[0,0] = affine[0,0]*factor\n",
    "affine[1,1] = affine[1,1]*factor\n",
    "affine[2,2] = affine[2,2]*factor\n",
    "imgSpacing = imgSpacing * factor\n",
    "\n",
    "# Downsample\n",
    "vol = scipy.ndimage.zoom(niiVol.get_fdata().astype('float32'), 1/factor, order=2)\n",
    "imgDim = vol.shape\n",
    "\n",
    "print('Image dimensions and voxel size')\n",
    "print(imgDim)\n",
    "print(imgSpacing)\n",
    "\n",
    "print('\\nThe affine matrix of the original volume')\n",
    "print(affine)"
   ]
  },
  {
   "cell_type": "code",
   "execution_count": null,
   "id": "40f78b82",
   "metadata": {},
   "outputs": [],
   "source": [
    "# Set up grid interpolator for the resampled image\n",
    "\n",
    "# --- Choose inter-/extra-polation --- #\n",
    "\n",
    "intMethod = 'linear' #Options: \"linear\", \"nearest\", \"slinear\", \"cubic\", \"quintic\" and \"pchip\" \n",
    "expVal = 0.0 #Value for extrapolation (i.e. values outside volume domain)\n",
    "\n",
    "# ------------------------------------ #\n",
    "\n",
    "# Set-up interpolator for the image/volume\n",
    "x = np.arange(start=0, stop=imgDim[0], step=1) * imgSpacing[0] + affine[0,3]\n",
    "y = np.arange(start=0, stop=imgDim[1], step=1) * imgSpacing[1] + affine[1,3]\n",
    "z = np.arange(start=0, stop=imgDim[2], step=1) * imgSpacing[2] + affine[2,3]\n",
    "F_vol = RegularGridInterpolator((x, y, z), vol, method=intMethod, bounds_error=False, fill_value=expVal)\n",
    "\n",
    "#  Can also be specified in voxel-coordinates\n",
    "#x = np.arange(start=0, stop=imgDim[0], step=1) \n",
    "#y = np.arange(start=0, stop=imgDim[1], step=1) \n",
    "#z = np.arange(start=0, stop=imgDim[2], step=1)\n"
   ]
  },
  {
   "cell_type": "code",
   "execution_count": null,
   "id": "4b0835cf",
   "metadata": {},
   "outputs": [],
   "source": [
    "# Threshold and marching cubes\n",
    "threshold = 130\n",
    "\n",
    "vertices_f, faces_f, normals_f, labels_f = measure.marching_cubes(vol > threshold , 0.5)\n",
    "mesh_f = Poly3DCollection(vertices_f[faces_f], alpha=1.0, facecolors='r', edgecolors='r', shade=True)\n"
   ]
  },
  {
   "cell_type": "code",
   "execution_count": null,
   "id": "538834c6",
   "metadata": {},
   "outputs": [],
   "source": [
    "# Helper function to marching cube meshes\n",
    "def plotMesh(ax, mesh, ax_x, ax_y, ax_z, azim, elev):\n",
    "    \n",
    "    ax.add_collection3d(mesh)\n",
    "    ax.set_xlabel(\"x\")\n",
    "    ax.set_ylabel(\"y\")\n",
    "    ax.set_zlabel(\"z\")\n",
    "    ax.set_xlim(ax_x[0], ax_x[1])  \n",
    "    ax.set_ylim(ax_y[0], ax_y[1])  \n",
    "    ax.set_zlim(ax_z[0], ax_z[1]) \n",
    "    ax.set_aspect('equal')\n",
    "    ax.azim = azim\n",
    "    ax.elev = elev"
   ]
  },
  {
   "cell_type": "code",
   "execution_count": null,
   "id": "c1880ee3",
   "metadata": {
    "scrolled": true
   },
   "outputs": [],
   "source": [
    "# # Display the marching cubes meshes side-by-side\n",
    "\n",
    "# # ShowCase\n",
    "# ls = LightSource(azdeg=225.0, altdeg=45.0)\n",
    "# fig = plt.figure(figsize=(24, 8))\n",
    "\n",
    "# # Set up scene for fixed\n",
    "# ax = fig.add_subplot(1,3,1, projection='3d')\n",
    "# plotMesh(ax, mesh_f, [0, imgDim[0]], [0, imgDim[1]], [0, imgDim[2]], azim=90, elev=-45)\n",
    "# ax.set_title('MC mesh')\n",
    "\n",
    "# # Display\n",
    "# plt.show()"
   ]
  },
  {
   "cell_type": "code",
   "execution_count": null,
   "id": "e8d7a934",
   "metadata": {},
   "outputs": [],
   "source": [
    "# Convert vertices to physical coordinates\n",
    "vertices_ft = vertices_f @ affine[0:3,0:3] + np.transpose(affine[0:3,3])\n",
    "\n",
    "print('Voxel coordinates:')\n",
    "print(vertices_f[0:100:10,:])\n",
    "\n",
    "print('\\nWorld coordinates:')\n",
    "print(vertices_ft[0:100:10,:])"
   ]
  },
  {
   "cell_type": "code",
   "execution_count": null,
   "id": "7f3695be",
   "metadata": {},
   "outputs": [],
   "source": [
    "# Sample volume intensities\n",
    "fVal = F_vol(vertices_ft) # Evaluate points in the image interpolator\n",
    "\n",
    "print('Volumen intensities sampled:')\n",
    "print(fVal[0:100:10])"
   ]
  },
  {
   "cell_type": "code",
   "execution_count": null,
   "id": "c4f9f1bb",
   "metadata": {},
   "outputs": [],
   "source": [
    "# Convert to RGB color\n",
    "rgbColor = np.transpose(np.tile(fVal.astype('uint8'),(3,1))) / 255\n",
    "print('RGB color:')\n",
    "print(rgbColor[0:100:10,:])"
   ]
  },
  {
   "cell_type": "code",
   "execution_count": null,
   "id": "60f2b6cf",
   "metadata": {},
   "outputs": [],
   "source": [
    "# Color the mesh - though I don't think matplotlibs Poly3DCollection support vertex coloring?\n",
    "\n",
    "# So here I just plot a subset of vertices as points with rgbColor\n",
    "%matplotlib notebook\n",
    "\n",
    "fig, ax = plt.subplots(subplot_kw={\"projection\": \"3d\"})\n",
    "ax.scatter(vertices_ft[1::500,0],vertices_ft[1::500,1],vertices_ft[1::500,2], color=rgbColor[1::500,:])\n"
   ]
  },
  {
   "cell_type": "code",
   "execution_count": null,
   "id": "5d9d68a5",
   "metadata": {},
   "outputs": [],
   "source": []
  }
 ],
 "metadata": {
  "kernelspec": {
   "display_name": "Python 3 (ipykernel)",
   "language": "python",
   "name": "python3"
  },
  "language_info": {
   "codemirror_mode": {
    "name": "ipython",
    "version": 3
   },
   "file_extension": ".py",
   "mimetype": "text/x-python",
   "name": "python",
   "nbconvert_exporter": "python",
   "pygments_lexer": "ipython3",
   "version": "3.10.9"
  }
 },
 "nbformat": 4,
 "nbformat_minor": 5
}
