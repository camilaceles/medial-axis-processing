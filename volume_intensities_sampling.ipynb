{
 "cells": [
  {
   "cell_type": "code",
   "execution_count": 1,
   "id": "7d8be0b1",
   "metadata": {},
   "outputs": [],
   "source": [
    "# Imports\n",
    "import matplotlib.pyplot as plt\n",
    "import numpy as np\n",
    "import nibabel as nib\n",
    "from time import perf_counter as time\n",
    "from scipy.interpolate import RegularGridInterpolator\n",
    "from matplotlib.colors import LightSource\n",
    "from mpl_toolkits.mplot3d.art3d import Poly3DCollection\n",
    "from skimage import measure\n",
    "import scipy.ndimage\n",
    "\n",
    "from pygel3d import hmesh, jupyter_display as jd\n",
    "import plotly.graph_objs as go\n",
    "from commons.utils import *\n",
    "from medial_axis_processing import unfolding\n",
    "from medial_axis_loader.shared import *\n",
    "from medial_axis_loader.from_qmat import *\n",
    "from medial_axis_processing.volume_sampling import *"
   ]
  },
  {
   "cell_type": "code",
   "execution_count": 2,
   "id": "2d2f8926-0d16-419a-8ad5-437b667fb437",
   "metadata": {},
   "outputs": [],
   "source": [
    "%load_ext autoreload\n",
    "%autoreload 2"
   ]
  },
  {
   "cell_type": "code",
   "execution_count": 3,
   "id": "73526505-6e10-4daf-8a81-e0bafe42c8e4",
   "metadata": {},
   "outputs": [],
   "source": [
    "camera = dict(\n",
    "    up=dict(x=0, y=-1, z=0),\n",
    "    center=dict(x=0, y=0, z=0),\n",
    "    eye=dict(x=0, y=0, z=2.0)\n",
    ")\n",
    "\n",
    "def display_mesh(m, vertex_colors=None, save_html=None):\n",
    "    xyz = np.array([p for p in m.positions()])\n",
    "    m_tri = hmesh.Manifold(m)\n",
    "    hmesh.triangulate(m_tri)\n",
    "    ijk = np.array([[idx for idx in m_tri.circulate_face(f, 'v')] for f in m_tri.faces()])\n",
    "    mesh = go.Mesh3d(x=xyz[:, 0], y=xyz[:, 1], z=xyz[:, 2],\n",
    "                     i=ijk[:, 0], j=ijk[:, 1], k=ijk[:, 2], vertexcolor=vertex_colors, flatshading=False)\n",
    "\n",
    "    mesh_data = [mesh]\n",
    "\n",
    "    fig = go.Figure(data=mesh_data)\n",
    "    fig.update_layout(\n",
    "        scene=dict(\n",
    "            xaxis=dict(visible=False),\n",
    "            yaxis=dict(visible=False),\n",
    "            zaxis=dict(visible=False),\n",
    "            aspectmode=\"data\",\n",
    "            camera=camera\n",
    "        ),\n",
    "        width=850, height=1200\n",
    "    )\n",
    "    if save_html is not None:\n",
    "        fig.write_html(save_html + \".html\")\n",
    "    else:\n",
    "        fig.show()"
   ]
  },
  {
   "cell_type": "code",
   "execution_count": 4,
   "id": "331adc9b",
   "metadata": {},
   "outputs": [],
   "source": [
    "# Load volumetric data\n",
    "volume_data_path = 'data/vindelev/X19_resampled_uint8.nii'\n",
    "niiVol = nib.load(volume_data_path)"
   ]
  },
  {
   "cell_type": "code",
   "execution_count": 5,
   "id": "79f4f88e-15cb-4a66-bdca-076130e42233",
   "metadata": {},
   "outputs": [],
   "source": [
    "affine = niiVol.affine\n",
    "imgSpacing = niiVol.header['pixdim'][1:4]\n",
    "\n",
    "# Downsample\n",
    "downsample_factor = 4\n",
    "affine[0, 0] = affine[0, 0] * downsample_factor\n",
    "affine[1, 1] = affine[1, 1] * downsample_factor\n",
    "affine[2, 2] = affine[2, 2] * downsample_factor\n",
    "imgSpacing = imgSpacing * downsample_factor\n",
    "\n",
    "vol = scipy.ndimage.zoom(niiVol.get_fdata().astype('float32'), 1 / downsample_factor, order=2)\n",
    "imgDim = vol.shape\n",
    "\n",
    "intMethod = 'linear'  # Options: \"linear\", \"nearest\", \"slinear\", \"cubic\", \"quintic\" and \"pchip\"\n",
    "expVal = 0.0  # Value for extrapolation (i.e. values outside volume domain)\n",
    "x = np.arange(start=0, stop=imgDim[0], step=1) * imgSpacing[0] + affine[0, 3]\n",
    "y = np.arange(start=0, stop=imgDim[1], step=1) * imgSpacing[1] + affine[1, 3]\n",
    "z = np.arange(start=0, stop=imgDim[2], step=1) * imgSpacing[2] + affine[2, 3]\n",
    "\n",
    "F_vol = RegularGridInterpolator((x, y, z), vol, method=intMethod, bounds_error=False, fill_value=expVal)"
   ]
  },
  {
   "cell_type": "code",
   "execution_count": 6,
   "id": "d9665a2d-93b0-4f0f-9d29-eda528007aad",
   "metadata": {},
   "outputs": [],
   "source": [
    "# threshold = 130\n",
    "# vertices_f, faces_f, _,_ = measure.marching_cubes(vol > threshold , 0.5)\n",
    "# m = hmesh.Manifold.from_triangles(vertices_f, faces_f)\n",
    "# hmesh.obj_save(\"x19_marching_cubes_orig.obj\", m)"
   ]
  },
  {
   "cell_type": "code",
   "execution_count": 7,
   "id": "ac2eca0e-e2ef-4149-97fd-c95c578025fe",
   "metadata": {},
   "outputs": [],
   "source": [
    "# Load medial sheet\n",
    "medial_sheet = hmesh.load(\"data/vindelev/medial_sheet_x19_sampled_extreme.obj\")\n",
    "hmesh.triangulate(medial_sheet)\n",
    "medial_sheet.cleanup()\n",
    "\n",
    "# # from qmat input\n",
    "# vertices, edges, faces = read_qmat(\"data/vindelev/x19_voxelized.ma___v_10000___e_29712___f_19715.ma\")\n",
    "# medial_sheet = to_medial_sheet(vertices, faces)\n",
    "# medial_sheet = fix_normals(medial_sheet)\n",
    "# medial_sheet = hmesh.load(\"data/vindelev/x19_medial_axis_qmat.obj\")"
   ]
  },
  {
   "cell_type": "code",
   "execution_count": 8,
   "id": "b624f2bd-610c-4659-8e9f-66459d430e2d",
   "metadata": {},
   "outputs": [
    {
     "data": {
      "text/plain": [
       "497523"
      ]
     },
     "execution_count": 8,
     "metadata": {},
     "output_type": "execute_result"
    }
   ],
   "source": [
    "len(medial_sheet.vertices())"
   ]
  },
  {
   "cell_type": "code",
   "execution_count": 9,
   "id": "0902ff8e-418f-4e57-84a7-03561cca7191",
   "metadata": {},
   "outputs": [],
   "source": [
    "vertices = medial_sheet.positions()\n",
    "normals = np.array([medial_sheet.vertex_normal(vid) for vid in medial_sheet.vertices()])\n",
    "\n",
    "vertices_ft = vertices @ affine[0:3, 0:3] + np.transpose(affine[0:3, 3])\n",
    "normals_ft = normals @ affine[0:3, 0:3]"
   ]
  },
  {
   "cell_type": "code",
   "execution_count": 10,
   "id": "d6cc2c72-7175-4ee2-9063-f602746fb5f3",
   "metadata": {},
   "outputs": [],
   "source": [
    "sampling_distance = min(imgSpacing)\n",
    "num_samples = 20\n",
    "\n",
    "num_vertices = vertices_ft.shape[0]\n",
    "sample_indices = np.linspace(-num_samples, num_samples - 1, num_samples)\n",
    "\n",
    "j_factors = sample_indices[:, None] * sampling_distance\n",
    "\n",
    "samples_ft = vertices_ft[None, :, :] + normals_ft[None, :, :] * j_factors[:, None, None]\n",
    "\n",
    "samples_ft_reshaped = samples_ft.reshape(-1, samples_ft.shape[-1])\n",
    "\n",
    "intensities = F_vol(samples_ft_reshaped)\n",
    "\n",
    "intensities_reshaped = intensities.reshape(num_samples, num_vertices)\n",
    "max_intensities = np.max(intensities_reshaped, axis=0)"
   ]
  },
  {
   "cell_type": "code",
   "execution_count": 11,
   "id": "c4f9f1bb",
   "metadata": {},
   "outputs": [],
   "source": [
    "# Convert to RGB color\n",
    "rgbColor = np.transpose(np.tile(max_intensities.astype('uint8'),(3,1))) / 255"
   ]
  },
  {
   "cell_type": "code",
   "execution_count": 12,
   "id": "60f2b6cf",
   "metadata": {},
   "outputs": [],
   "source": [
    "display_mesh(medial_sheet, vertex_colors=rgbColor, save_html=\"results/vindelev/medial_sheet\")"
   ]
  },
  {
   "cell_type": "code",
   "execution_count": 13,
   "id": "5d9d68a5",
   "metadata": {},
   "outputs": [],
   "source": [
    "unfolded = hmesh.Manifold(medial_sheet)\n",
    "unfolded_pos = unfolding.get_unfolded_sheet_positions(None, medial_sheet)\n",
    "unfolded.positions()[:] = unfolded_pos"
   ]
  },
  {
   "cell_type": "code",
   "execution_count": 14,
   "id": "e2581d96-c8b9-41c6-881f-0cb93dabdaa1",
   "metadata": {},
   "outputs": [],
   "source": [
    "display_mesh(unfolded, vertex_colors=rgbColor, save_html=\"results/vindelev/unfolded\")"
   ]
  },
  {
   "cell_type": "code",
   "execution_count": 15,
   "id": "f7295fc0-dbe9-4725-abd2-c834a4fb23dc",
   "metadata": {},
   "outputs": [],
   "source": [
    "np.savetxt(\"results/vindelev/intensities_medial_sheet_x19_sampled_extreme.txt\", rgbColor)"
   ]
  },
  {
   "cell_type": "code",
   "execution_count": null,
   "id": "6fa64529-28f7-4cbc-b586-700393c86b14",
   "metadata": {},
   "outputs": [],
   "source": []
  }
 ],
 "metadata": {
  "kernelspec": {
   "display_name": "Python 3 (ipykernel)",
   "language": "python",
   "name": "python3"
  },
  "language_info": {
   "codemirror_mode": {
    "name": "ipython",
    "version": 3
   },
   "file_extension": ".py",
   "mimetype": "text/x-python",
   "name": "python",
   "nbconvert_exporter": "python",
   "pygments_lexer": "ipython3",
   "version": "3.10.9"
  }
 },
 "nbformat": 4,
 "nbformat_minor": 5
}
