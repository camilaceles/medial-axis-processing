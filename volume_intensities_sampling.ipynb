{
 "cells": [
  {
   "cell_type": "code",
   "execution_count": null,
   "id": "7d8be0b1",
   "metadata": {},
   "outputs": [],
   "source": [
    "# Imports\n",
    "import matplotlib.pyplot as plt\n",
    "import numpy as np\n",
    "import nibabel as nib\n",
    "from time import perf_counter as time\n",
    "from scipy.interpolate import RegularGridInterpolator\n",
    "from matplotlib.colors import LightSource\n",
    "from mpl_toolkits.mplot3d.art3d import Poly3DCollection\n",
    "from skimage import measure\n",
    "import scipy.ndimage\n",
    "import pickle\n",
    "import copy\n",
    "\n",
    "from pygel3d import hmesh, jupyter_display as jd\n",
    "import plotly.graph_objs as go\n",
    "from commons.utils import *\n",
    "from medial_axis_processing import unfolding, inverse_apply, smoothing\n",
    "from medial_axis_loader.shared import *\n",
    "from medial_axis_loader import from_medial_sheet\n",
    "from commons.display import *"
   ]
  },
  {
   "cell_type": "code",
   "execution_count": null,
   "id": "2d2f8926-0d16-419a-8ad5-437b667fb437",
   "metadata": {},
   "outputs": [],
   "source": [
    "%load_ext autoreload\n",
    "%autoreload 2"
   ]
  },
  {
   "cell_type": "markdown",
   "id": "d3dc57d6-7108-454b-84d2-328c03d052eb",
   "metadata": {},
   "source": [
    "## Load volumetric data"
   ]
  },
  {
   "cell_type": "code",
   "execution_count": null,
   "id": "331adc9b",
   "metadata": {},
   "outputs": [],
   "source": [
    "# volume_data_path = 'data/vindelev/X19_resampled_uint8.nii'\n",
    "# niiVol = nib.load(volume_data_path)"
   ]
  },
  {
   "cell_type": "code",
   "execution_count": null,
   "id": "79f4f88e-15cb-4a66-bdca-076130e42233",
   "metadata": {},
   "outputs": [],
   "source": [
    "# affine = niiVol.affine\n",
    "# imgSpacing = niiVol.header['pixdim'][1:4]\n",
    "\n",
    "# # Downsample\n",
    "# downsample_factor = 1\n",
    "# affine[0, 0] = affine[0, 0] * downsample_factor\n",
    "# affine[1, 1] = affine[1, 1] * downsample_factor\n",
    "# affine[2, 2] = affine[2, 2] * downsample_factor\n",
    "# imgSpacing = imgSpacing * downsample_factor\n",
    "\n",
    "# vol = niiVol.get_fdata().astype('float32') #scipy.ndimage.zoom(niiVol.get_fdata().astype('float32'), 1 / downsample_factor, order=2)\n",
    "# imgDim = vol.shape\n",
    "\n",
    "# intMethod = 'linear'  # Options: \"linear\", \"nearest\", \"slinear\", \"cubic\", \"quintic\" and \"pchip\"\n",
    "# expVal = 0.0  # Value for extrapolation (i.e. values outside volume domain)\n",
    "# x = np.arange(start=0, stop=imgDim[0], step=1) * imgSpacing[0] + affine[0, 3]\n",
    "# y = np.arange(start=0, stop=imgDim[1], step=1) * imgSpacing[1] + affine[1, 3]\n",
    "# z = np.arange(start=0, stop=imgDim[2], step=1) * imgSpacing[2] + affine[2, 3]\n",
    "\n",
    "# F_vol = RegularGridInterpolator((x, y, z), vol, method=intMethod, bounds_error=False, fill_value=expVal)"
   ]
  },
  {
   "cell_type": "code",
   "execution_count": null,
   "id": "d9665a2d-93b0-4f0f-9d29-eda528007aad",
   "metadata": {},
   "outputs": [],
   "source": [
    "# threshold = 130\n",
    "# vertices_f, faces_f, _,_ = measure.marching_cubes(vol > threshold , 0.5)\n",
    "# m = hmesh.Manifold.from_triangles(vertices_f, faces_f)\n",
    "# hmesh.obj_save(\"data/input/x19_marching_cubes.obj\", m)"
   ]
  },
  {
   "cell_type": "code",
   "execution_count": null,
   "id": "020259b9-65b4-4cdd-a0d1-0a1423de7100",
   "metadata": {},
   "outputs": [],
   "source": [
    "# with open('data/vindelev/F_vol.pck', 'wb') as file_handle:\n",
    "#     pickle.dump(F_vol, file_handle)\n",
    "    \n",
    "# with open('data/vindelev/affine.pck', 'wb') as file_handle:\n",
    "#     pickle.dump(affine, file_handle)"
   ]
  },
  {
   "cell_type": "code",
   "execution_count": null,
   "id": "62fbd845-6400-4bef-99b7-9478d114df27",
   "metadata": {},
   "outputs": [],
   "source": [
    "with open('data/vindelev/F_vol.pck', 'rb') as file_handle:\n",
    "    F_vol = pickle.load(file_handle)\n",
    "    \n",
    "with open('data/vindelev/affine.pck', 'rb') as file_handle:\n",
    "    affine = pickle.load(file_handle)"
   ]
  },
  {
   "cell_type": "markdown",
   "id": "ec4d8f77-1642-4942-bc63-803869d9922b",
   "metadata": {},
   "source": [
    "## Load medial axis"
   ]
  },
  {
   "cell_type": "code",
   "execution_count": null,
   "id": "ac2eca0e-e2ef-4149-97fd-c95c578025fe",
   "metadata": {},
   "outputs": [],
   "source": [
    "input_mesh = hmesh.load(\"x19_zoom_mesh_GOODONE.obj\")\n",
    "medial_sheet = hmesh.load(\"data/vindelev/medial_sheet_x19_zoom2.obj\")\n",
    "\n",
    "# input_mesh.positions()[:] *= 12\n",
    "# medial_sheet.positions()[:] *= 12\n",
    "\n",
    "medial_axis = from_medial_sheet.load(input_mesh, medial_sheet)"
   ]
  },
  {
   "cell_type": "code",
   "execution_count": null,
   "id": "08dcedaf-af75-4c9b-a6c6-40002ed1dafa",
   "metadata": {},
   "outputs": [],
   "source": [
    "display_medial_axis(medial_axis)"
   ]
  },
  {
   "cell_type": "code",
   "execution_count": null,
   "id": "96d1ad12-0a57-432f-94dc-26eed8f507d6",
   "metadata": {},
   "outputs": [],
   "source": [
    "np.mean(medial_axis.rbf)"
   ]
  },
  {
   "cell_type": "code",
   "execution_count": null,
   "id": "48b4224e-8f8c-44c8-9c3a-4bae5843c33c",
   "metadata": {},
   "outputs": [],
   "source": [
    "medial_axis.rbf[:] = np.mean(medial_axis.rbf)"
   ]
  },
  {
   "cell_type": "code",
   "execution_count": null,
   "id": "3fc090ab-8e15-4e76-ab40-a893a32c9638",
   "metadata": {},
   "outputs": [],
   "source": [
    "smoothing.simple_smooth(medial_axis)"
   ]
  },
  {
   "cell_type": "code",
   "execution_count": null,
   "id": "5a794576-d304-46e7-839c-5098baef84f0",
   "metadata": {},
   "outputs": [],
   "source": [
    "jd.display(medial_axis.surface)"
   ]
  },
  {
   "cell_type": "markdown",
   "id": "acd371f1-ab8b-4862-b61f-7eaa6fea8fb8",
   "metadata": {},
   "source": [
    "## Sample voxelized surface intensities along medial axis connection direction"
   ]
  },
  {
   "cell_type": "code",
   "execution_count": null,
   "id": "0902ff8e-418f-4e57-84a7-03561cca7191",
   "metadata": {},
   "outputs": [],
   "source": [
    "vertices = medial_axis.surface.positions()\n",
    "normals = medial_axis.diffs  # points from sheet to surface\n",
    "\n",
    "vertices_ft = vertices @ affine[0:3, 0:3] + np.transpose(affine[0:3, 3])\n",
    "normals_ft = normals @ affine[0:3, 0:3]"
   ]
  },
  {
   "cell_type": "code",
   "execution_count": null,
   "id": "1954ca1a-ae72-4b0b-8c4a-8c82bcdc5e24",
   "metadata": {},
   "outputs": [],
   "source": [
    "distances = np.zeros(medial_axis.outer_points.shape[0])\n",
    "\n",
    "for i, outer in enumerate(medial_axis.outer_points):\n",
    "    inner_projection = medial_axis.inner_projections[i]\n",
    "    diff = outer - inner_projection\n",
    "    distances[i] = np.linalg.norm(diff)"
   ]
  },
  {
   "cell_type": "code",
   "execution_count": null,
   "id": "d6cc2c72-7175-4ee2-9063-f602746fb5f3",
   "metadata": {},
   "outputs": [],
   "source": [
    "num_samples = 2*20\n",
    "num_vertices = vertices_ft.shape[0]\n",
    "\n",
    "sample_indices = np.linspace(-1.7, 0.7, num_samples)[:, None] * distances[None, :]\n",
    "\n",
    "samples_ft = vertices_ft[None, :, :] + normals_ft[None, :, :] * sample_indices[:, :, None]\n",
    "\n",
    "samples_ft_reshaped = samples_ft.reshape(-1, 3)\n",
    "\n",
    "intensities = F_vol(samples_ft_reshaped)\n",
    "\n",
    "intensities_reshaped = intensities.reshape(num_samples, num_vertices)\n",
    "max_intensities = np.max(intensities_reshaped, axis=0)"
   ]
  },
  {
   "cell_type": "code",
   "execution_count": null,
   "id": "c4f9f1bb",
   "metadata": {
    "scrolled": true
   },
   "outputs": [],
   "source": [
    "# Convert to RGB color\n",
    "# rgbColor = np.transpose(np.tile(max_intensities.astype('uint8'),(3,1))) / 256\n",
    "# display_mesh_vertex_colors(medial_axis.surface, vertex_colors=rgbColor) #, save_html=\"results/vindelev/voxelized\")"
   ]
  },
  {
   "cell_type": "markdown",
   "id": "5bfb74d1-fe4a-471f-b8f1-bd24de945df4",
   "metadata": {},
   "source": [
    "## Reconstruct coin based on intesities"
   ]
  },
  {
   "cell_type": "code",
   "execution_count": null,
   "id": "b9c903ec-d5b6-4bb9-b0a3-84e9e5ca7059",
   "metadata": {},
   "outputs": [],
   "source": [
    "intensities = max_intensities / 256\n",
    "intensities = (intensities - np.min(intensities)) / (np.max(intensities) - np.min(intensities))"
   ]
  },
  {
   "cell_type": "code",
   "execution_count": null,
   "id": "8cc9d58f-da1e-471d-a83b-2675ecb0e177",
   "metadata": {},
   "outputs": [],
   "source": [
    "len = np.mean(medial_axis.rbf)"
   ]
  },
  {
   "cell_type": "code",
   "execution_count": null,
   "id": "d7e5eb34-bf56-45d1-afdb-09e370aec8ec",
   "metadata": {},
   "outputs": [],
   "source": [
    "pos = medial_axis.surface.positions()\n",
    "new_pos = np.copy(pos)\n",
    "\n",
    "for i, outer in enumerate(medial_axis.outer_points):\n",
    "    inner_projection = medial_axis.inner_projections[i]\n",
    "    diff = outer - inner_projection\n",
    "    diff /= np.linalg.norm(diff)\n",
    "    \n",
    "    new_pos[i] = inner_projection + (diff * (intensities[i] * len))"
   ]
  },
  {
   "cell_type": "code",
   "execution_count": null,
   "id": "6441d8af-ad37-4870-b5e0-34b740b1d8bd",
   "metadata": {},
   "outputs": [],
   "source": [
    "medial_axis.outer_points[:] = new_pos\n",
    "medial_axis.surface.positions()[:] = new_pos"
   ]
  },
  {
   "cell_type": "code",
   "execution_count": null,
   "id": "f6b49eff-6bee-431e-90f8-aa93bc0f3523",
   "metadata": {},
   "outputs": [],
   "source": [
    "# display_mesh(medial_axis.surface)"
   ]
  },
  {
   "cell_type": "code",
   "execution_count": null,
   "id": "14d9e7bb-c339-4043-bbc0-b8b5590d49f7",
   "metadata": {},
   "outputs": [],
   "source": [
    "hmesh.obj_save(\"results/vindelev/x19_test.obj\", medial_axis.surface)"
   ]
  },
  {
   "cell_type": "markdown",
   "id": "6c885dcb-b864-4e16-b01b-c52f31c0a491",
   "metadata": {},
   "source": [
    "## Unfold reconstructed coin"
   ]
  },
  {
   "cell_type": "code",
   "execution_count": null,
   "id": "5d9d68a5",
   "metadata": {},
   "outputs": [],
   "source": [
    "unfolded_sheet = unfolding.get_unfolded_sheet_positions(medial_axis)\n",
    "\n",
    "updated_sheet = hmesh.Manifold(medial_axis.sheet)\n",
    "updated_sheet.positions()[:] = unfolded_sheet\n",
    "# hmesh.flip_orientation(updated_sheet)"
   ]
  },
  {
   "cell_type": "code",
   "execution_count": null,
   "id": "424a8bdc-b4c7-43a9-b9e7-26f6ad70eefd",
   "metadata": {},
   "outputs": [],
   "source": [
    "inverse_apply.inverse_apply_medial_axis(medial_axis, unfolded_sheet, [])"
   ]
  },
  {
   "cell_type": "code",
   "execution_count": null,
   "id": "06c0f3ac-b377-4454-b7e0-3244708d4adf",
   "metadata": {},
   "outputs": [],
   "source": [
    "smooth(medial_axis.surface, max_iter=7)"
   ]
  },
  {
   "cell_type": "code",
   "execution_count": null,
   "id": "e2581d96-c8b9-41c6-881f-0cb93dabdaa1",
   "metadata": {},
   "outputs": [],
   "source": [
    "# display_mesh_vertex_colors(medial_axis.surface, vertex_colors=rgbColor, save_html=\"results/vindelev/voxelized_unfolded\")"
   ]
  },
  {
   "cell_type": "code",
   "execution_count": null,
   "id": "ea1d05aa-9bc7-401a-9360-08c1daa628d4",
   "metadata": {},
   "outputs": [],
   "source": [
    "# display_mesh(medial_axis.surface)"
   ]
  },
  {
   "cell_type": "code",
   "execution_count": null,
   "id": "9c347223-a8cc-4bc0-89ce-e258ffaf47fc",
   "metadata": {},
   "outputs": [],
   "source": [
    "hmesh.obj_save(\"results/vindelev/x19_test_unfolded.obj\", medial_axis.surface)"
   ]
  },
  {
   "cell_type": "code",
   "execution_count": null,
   "id": "acf280db-ec9f-45c3-a81c-915dac6a360e",
   "metadata": {},
   "outputs": [],
   "source": [
    "display_medial_axis(medial_axis)"
   ]
  },
  {
   "cell_type": "code",
   "execution_count": null,
   "id": "f0d60971-2a7f-42db-bb16-932a5350a0cc",
   "metadata": {},
   "outputs": [],
   "source": []
  }
 ],
 "metadata": {
  "kernelspec": {
   "display_name": "Python 3 (ipykernel)",
   "language": "python",
   "name": "python3"
  },
  "language_info": {
   "codemirror_mode": {
    "name": "ipython",
    "version": 3
   },
   "file_extension": ".py",
   "mimetype": "text/x-python",
   "name": "python",
   "nbconvert_exporter": "python",
   "pygments_lexer": "ipython3",
   "version": "3.10.9"
  }
 },
 "nbformat": 4,
 "nbformat_minor": 5
}
