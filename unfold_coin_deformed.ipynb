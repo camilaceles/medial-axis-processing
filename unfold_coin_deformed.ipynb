{
 "cells": [
  {
   "cell_type": "code",
   "execution_count": null,
   "id": "13c7065c-1180-43e2-91be-42b476c791de",
   "metadata": {},
   "outputs": [],
   "source": [
    "from pygel3d import hmesh, jupyter_display as jd, gl_display as gl, graph\n",
    "import numpy as np\n",
    "import math\n",
    "from commons.utils import *\n",
    "from commons.display import *\n",
    "from medial_axis_loader import from_qmat, from_dpc\n",
    "from medial_axis_processing import unfolding, inverse_apply\n",
    "from scipy.spatial import KDTree"
   ]
  },
  {
   "cell_type": "code",
   "execution_count": null,
   "id": "764a60e3-c555-4407-8a3d-7346c6e19cc4",
   "metadata": {},
   "outputs": [],
   "source": [
    "%load_ext autoreload\n",
    "%autoreload 2"
   ]
  },
  {
   "cell_type": "code",
   "execution_count": null,
   "id": "b1fc3518-d75e-43cc-9a1d-745d66f571d7",
   "metadata": {},
   "outputs": [],
   "source": [
    "input_mesh = hmesh.load(\"data/input/coin_deformed.obj\")\n",
    "# jd.display(input_mesh)"
   ]
  },
  {
   "cell_type": "code",
   "execution_count": null,
   "id": "4e287992-7ce7-439d-91a5-59e5546a5aef",
   "metadata": {},
   "outputs": [],
   "source": [
    "# For DPC input\n",
    "ma_input = \"data/dpc/coin_deformed.dpc\"\n",
    "medial_axis = from_dpc.load(input_mesh, ma_input)"
   ]
  },
  {
   "cell_type": "code",
   "execution_count": null,
   "id": "1207daab-d5b3-457e-85b5-3751a348c6e9",
   "metadata": {},
   "outputs": [],
   "source": [
    "display_medial_axis(medial_axis)"
   ]
  },
  {
   "cell_type": "code",
   "execution_count": null,
   "id": "671546ca-c1d5-439f-86c8-954e74f67e40",
   "metadata": {},
   "outputs": [],
   "source": [
    "unfolded_sheet = unfolding.get_unfolded_sheet_positions(medial_axis)\n",
    "unfolded_curves = unfolding.get_unfolded_curve_positions(medial_axis, medial_axis.sheet.positions(), unfolded_sheet)"
   ]
  },
  {
   "cell_type": "code",
   "execution_count": null,
   "id": "a9bb0551-33ef-4104-b075-e1443faf0b5d",
   "metadata": {},
   "outputs": [],
   "source": [
    "updated_sheet = hmesh.Manifold(medial_axis.sheet)\n",
    "updated_sheet.positions()[:] = unfolded_sheet\n",
    "hmesh.flip_orientation(updated_sheet)"
   ]
  },
  {
   "cell_type": "code",
   "execution_count": null,
   "id": "280e9775-c3a9-465d-977a-1b3f4f817cbd",
   "metadata": {},
   "outputs": [],
   "source": [
    "inverse_apply.apply_inverse_medial_axis_transform(medial_axis, unfolded_sheet, unfolded_curves)"
   ]
  },
  {
   "cell_type": "code",
   "execution_count": null,
   "id": "7a1783e4-fde2-457d-b857-14f51d8bd8e1",
   "metadata": {},
   "outputs": [],
   "source": [
    "display_mesh(medial_axis.surface)"
   ]
  },
  {
   "cell_type": "code",
   "execution_count": null,
   "id": "486d41b5-7548-49af-a5fe-ae77404789cb",
   "metadata": {},
   "outputs": [],
   "source": [
    "display_graph(medial_axis.graph)"
   ]
  },
  {
   "cell_type": "code",
   "execution_count": null,
   "id": "371fbaa1-d96c-4541-9191-5a723be57960",
   "metadata": {},
   "outputs": [],
   "source": []
  }
 ],
 "metadata": {
  "kernelspec": {
   "display_name": "Python 3 (ipykernel)",
   "language": "python",
   "name": "python3"
  },
  "language_info": {
   "codemirror_mode": {
    "name": "ipython",
    "version": 3
   },
   "file_extension": ".py",
   "mimetype": "text/x-python",
   "name": "python",
   "nbconvert_exporter": "python",
   "pygments_lexer": "ipython3",
   "version": "3.10.9"
  }
 },
 "nbformat": 4,
 "nbformat_minor": 5
}
