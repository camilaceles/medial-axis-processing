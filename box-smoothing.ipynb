{
 "cells": [
  {
   "cell_type": "code",
   "execution_count": 1,
   "id": "34ed616e-e8ff-4b1a-b22d-69bd21e3e736",
   "metadata": {},
   "outputs": [],
   "source": [
    "from pygel3d import hmesh, jupyter_display as jd, gl_display as gl, graph\n",
    "import numpy as np\n",
    "import math\n",
    "from commons.utils import *\n",
    "from commons.display import *\n",
    "from medial_axis_loader import from_qmat, from_dpc\n",
    "from medial_axis_processing import unfolding, inverse_apply\n",
    "from scipy.spatial import KDTree\n",
    "from sklearn.decomposition import PCA"
   ]
  },
  {
   "cell_type": "code",
   "execution_count": 2,
   "id": "ec4f1d55-24c7-4fcd-955a-b4fcbd52fe19",
   "metadata": {},
   "outputs": [],
   "source": [
    "%load_ext autoreload\n",
    "%autoreload 2"
   ]
  },
  {
   "cell_type": "code",
   "execution_count": 13,
   "id": "54db806c-ab2f-4123-8df2-c372d0989642",
   "metadata": {},
   "outputs": [
    {
     "data": {
      "application/vnd.jupyter.widget-view+json": {
       "model_id": "511c536af0d94d65b9cddd7d5c1b52a2",
       "version_major": 2,
       "version_minor": 0
      },
      "text/plain": [
       "FigureWidget({\n",
       "    'data': [{'color': '#dddddd',\n",
       "              'flatshading': False,\n",
       "              'i': array([ 0,  1,  3,  1,  0,  3,  6,  3,  9, 10, 11, 10,  9, 11, 14, 11, 16, 17,\n",
       "                          18, 17, 16, 18, 21, 18, 22, 23, 25, 23, 22, 25, 28, 25, 29, 30, 31, 30,\n",
       "                          29, 31, 19, 31,  0,  6, 32,  6,  0, 32, 35, 32]),\n",
       "              'j': array([ 1,  2,  4,  4,  3,  5,  7,  7, 10, 20, 12, 12, 11, 13, 15, 15, 17, 29,\n",
       "                          19, 19, 18, 20, 10, 10, 23, 24, 26, 26, 25, 27, 15, 15, 30, 22, 28, 28,\n",
       "                          31, 13, 12, 12,  6,  8, 33, 33, 32, 34, 36, 36]),\n",
       "              'k': array([ 3,  4,  5,  3,  6,  7,  8,  6, 11, 12, 13, 11, 14, 15, 27, 14, 18, 19,\n",
       "                          20, 18, 21, 10,  9, 21, 25, 26, 27, 25, 28, 15, 13, 28, 31, 28, 13, 31,\n",
       "                          19, 12, 20, 19, 32, 33, 34, 32, 35, 36, 37, 35]),\n",
       "              'type': 'mesh3d',\n",
       "              'uid': 'a03617aa-02ac-4a54-b0ef-525823c65b25',\n",
       "              'x': array([-5.,  0.,  5.,  0.,  5.,  5., -5.,  0., -5., -5.,  0.,  0.,  5.,  5.,\n",
       "                          -5.,  0., -5.,  0.,  0.,  5.,  5., -5.,  5.,  0., -5.,  0., -5., -5.,\n",
       "                           5.,  5.,  5.,  5., -5., -5., -5., -5., -5., -5.]),\n",
       "              'y': array([-5., -5., -5.,  0.,  0.,  5.,  0.,  5.,  5., -5., -5.,  0.,  0.,  5.,\n",
       "                           0.,  5., -5., -5., -5., -5., -5., -5.,  5.,  5.,  5.,  5.,  5.,  5.,\n",
       "                           5., -5.,  0.,  0.,  0.,  5.,  5., -5.,  0., -5.]),\n",
       "              'z': array([-5., -5., -5., -5., -5., -5., -5., -5., -5.,  5.,  5.,  5.,  5.,  5.,\n",
       "                           5.,  5., -5., -5.,  0.,  0.,  5.,  0., -5., -5., -5.,  0.,  0.,  5.,\n",
       "                           0., -5., -5.,  0.,  0.,  0.,  5.,  0.,  5.,  5.])},\n",
       "             {'hoverinfo': 'none',\n",
       "              'line': {'color': 'rgb(125,0,0)', 'width': 1},\n",
       "              'mode': 'lines',\n",
       "              'type': 'scatter3d',\n",
       "              'uid': 'c4e93889-52a0-4a19-bf10-fa7e98eeeeba',\n",
       "              'x': array([-5.0, 0.0, None, ..., -5.0, -5.0, None], dtype=object),\n",
       "              'y': array([-5.0, -5.0, None, ..., -5.0, -5.0, None], dtype=object),\n",
       "              'z': array([-5.0, -5.0, None, ..., 5.0, 0.0, None], dtype=object)}],\n",
       "    'layout': {'height': 800, 'scene': {'aspectmode': 'data'}, 'template': '...', 'width': 850}\n",
       "})"
      ]
     },
     "execution_count": 13,
     "metadata": {},
     "output_type": "execute_result"
    }
   ],
   "source": [
    "import trimesh\n",
    "import numpy as np\n",
    "\n",
    "def create_box(N):\n",
    "    # Define the vertices of the box\n",
    "    side = 10\n",
    "    half_side = side / 2\n",
    "    vertices = np.array([\n",
    "        [-half_side, -half_side, -half_side],\n",
    "        [ half_side, -half_side, -half_side],\n",
    "        [ half_side,  half_side, -half_side],\n",
    "        [-half_side,  half_side, -half_side],\n",
    "        [-half_side, -half_side,  half_side],\n",
    "        [ half_side, -half_side,  half_side],\n",
    "        [ half_side,  half_side,  half_side],\n",
    "        [-half_side,  half_side,  half_side]\n",
    "    ])\n",
    "    \n",
    "    # Define the faces of the box\n",
    "    faces = np.array([\n",
    "        [0, 1, 2], [0, 2, 3],  # Bottom face\n",
    "        [4, 5, 6], [4, 6, 7],  # Top face\n",
    "        [0, 1, 5], [0, 5, 4],  # Front face\n",
    "        [2, 3, 7], [2, 7, 6],  # Back face\n",
    "        [1, 2, 6], [1, 6, 5],  # Right face\n",
    "        [0, 3, 7], [0, 7, 4]   # Left face\n",
    "    ])\n",
    "        \n",
    "    # Subdivide the mesh to have approximately 5 times more vertices\n",
    "    for i in range(N):\n",
    "        vertices, faces = trimesh.remesh.subdivide(vertices, faces)\n",
    "\n",
    "    box = hmesh.Manifold.from_triangles(vertices, faces)\n",
    "    \n",
    "    return box\n",
    "\n",
    "# Example usage\n",
    "box = create_box(1)\n",
    "jd.display(box)"
   ]
  },
  {
   "cell_type": "code",
   "execution_count": 14,
   "id": "ca158678-2d2c-4e0f-a328-8a37056cebdd",
   "metadata": {},
   "outputs": [],
   "source": [
    "hmesh.off_save(\"data/input/box.off\", box)"
   ]
  },
  {
   "cell_type": "code",
   "execution_count": null,
   "id": "6f00ac1e-4a35-44ef-8c23-82d2cc264beb",
   "metadata": {},
   "outputs": [],
   "source": []
  }
 ],
 "metadata": {
  "kernelspec": {
   "display_name": "Python 3 (ipykernel)",
   "language": "python",
   "name": "python3"
  },
  "language_info": {
   "codemirror_mode": {
    "name": "ipython",
    "version": 3
   },
   "file_extension": ".py",
   "mimetype": "text/x-python",
   "name": "python",
   "nbconvert_exporter": "python",
   "pygments_lexer": "ipython3",
   "version": "3.10.9"
  }
 },
 "nbformat": 4,
 "nbformat_minor": 5
}
