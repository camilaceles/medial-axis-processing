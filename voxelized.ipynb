{
 "cells": [
  {
   "cell_type": "code",
   "execution_count": 1,
   "id": "7d8be0b1",
   "metadata": {},
   "outputs": [],
   "source": [
    "# Imports\n",
    "import matplotlib.pyplot as plt\n",
    "import numpy as np\n",
    "import nibabel as nib\n",
    "from time import perf_counter as time\n",
    "from scipy.interpolate import RegularGridInterpolator\n",
    "from matplotlib.colors import LightSource\n",
    "from mpl_toolkits.mplot3d.art3d import Poly3DCollection\n",
    "from skimage import measure\n",
    "import scipy.ndimage\n",
    "import pickle\n",
    "import trimesh\n",
    "from pygel3d import hmesh, jupyter_display as jd\n",
    "import plotly.graph_objs as go\n",
    "from commons.utils import *\n",
    "from commons.display import *"
   ]
  },
  {
   "cell_type": "code",
   "execution_count": 2,
   "id": "2d2f8926-0d16-419a-8ad5-437b667fb437",
   "metadata": {},
   "outputs": [],
   "source": [
    "%load_ext autoreload\n",
    "%autoreload 2"
   ]
  },
  {
   "cell_type": "markdown",
   "id": "d3dc57d6-7108-454b-84d2-328c03d052eb",
   "metadata": {},
   "source": [
    "## Load volumetric data"
   ]
  },
  {
   "cell_type": "code",
   "execution_count": 3,
   "id": "97c00c03-8cec-4b70-932c-57e361328664",
   "metadata": {},
   "outputs": [],
   "source": [
    "volume_data_path = 'data/vindelev/X19_resampled_uint8.nii'\n",
    "niiVol = nib.load(volume_data_path)"
   ]
  },
  {
   "cell_type": "code",
   "execution_count": 17,
   "id": "05cbc273-9f0c-41b8-bd73-966ce941acdd",
   "metadata": {},
   "outputs": [],
   "source": [
    "def apply_max_in_region(arr, x_thresh, y_thresh, z_thresh=np.inf):\n",
    "    \"\"\"Takes a 3d binary matrix arr and merges cells in small neighborhood by taking the OR value\"\"\"\n",
    "    result = np.copy(arr)\n",
    "\n",
    "    for x in range(arr.shape[0]):\n",
    "        for y in range(arr.shape[1]):\n",
    "            for z in range(arr.shape[2]):\n",
    "                if x < x_thresh and y < y_thresh and z < z_thresh:\n",
    "                    # Apply the logical OR within a smaller neighborhood\n",
    "                    x_min, x_max = max(0, x - 2), min(arr.shape[0], x + 2)\n",
    "                    y_min, y_max = max(0, y - 2), min(arr.shape[1], y + 2)\n",
    "                    z_min, z_max = max(0, z - 2), min(arr.shape[2], z + 2)\n",
    "                    result[x, y, z] = np.max(arr[x_min:x_max, y_min:y_max, z_min:z_max])\n",
    "                # For values outside threshold keep the original value\n",
    "\n",
    "    padded_arr = np.pad(result, pad_width=2, mode='constant', constant_values=False)\n",
    "\n",
    "    return padded_arr"
   ]
  },
  {
   "cell_type": "code",
   "execution_count": 5,
   "id": "05fe699f-0bfd-4b07-b7ad-90fda1373c33",
   "metadata": {},
   "outputs": [],
   "source": [
    "def rescale_max(data, scale_factor, cval=0.0):\n",
    "    pad_width = [(0, (scale_factor - dim % scale_factor) % scale_factor) for dim in data.shape]\n",
    "    \n",
    "    padded_data = np.pad(data, pad_width, mode='constant', constant_values=cval)\n",
    "    \n",
    "    new_shape = (padded_data.shape[0] // scale_factor, scale_factor,\n",
    "                 padded_data.shape[1] // scale_factor, scale_factor,\n",
    "                 padded_data.shape[2] // scale_factor, scale_factor)\n",
    "    \n",
    "    reshaped_data = padded_data.reshape(new_shape)\n",
    "    reshaped_data = reshaped_data.max(axis=1).max(axis=2).max(axis=3)\n",
    "    \n",
    "    return reshaped_data"
   ]
  },
  {
   "cell_type": "code",
   "execution_count": 18,
   "id": "ee415fbb-be67-4112-9804-3533e7feb3e1",
   "metadata": {},
   "outputs": [],
   "source": [
    "affine = niiVol.affine\n",
    "imgSpacing = niiVol.header['pixdim'][1:4]\n",
    "\n",
    "# Downsample\n",
    "downsample_factor = 12\n",
    "affine[0, 0] = affine[0, 0] * downsample_factor\n",
    "affine[1, 1] = affine[1, 1] * downsample_factor\n",
    "affine[2, 2] = affine[2, 2] * downsample_factor\n",
    "imgSpacing = imgSpacing * downsample_factor\n",
    "\n",
    "vol = niiVol.get_fdata().astype('float32') #scipy.ndimage.zoom(niiVol.get_fdata().astype('float32'), 1 / downsample_factor, order=2)\n",
    "vol = rescale_max(vol, downsample_factor)\n",
    "imgDim = vol.shape"
   ]
  },
  {
   "cell_type": "code",
   "execution_count": 19,
   "id": "df10d27a-37eb-48eb-84f1-a8f7abf4e0ca",
   "metadata": {},
   "outputs": [],
   "source": [
    "res = apply_max_in_region(vol, 100, 120, 60)"
   ]
  },
  {
   "cell_type": "code",
   "execution_count": 20,
   "id": "d9665a2d-93b0-4f0f-9d29-eda528007aad",
   "metadata": {},
   "outputs": [],
   "source": [
    "threshold = 130\n",
    "vertices_f, faces_f, _,_ = measure.marching_cubes(res > threshold , 0.5)\n",
    "trim = trimesh.Trimesh(vertices_f, faces_f)\n",
    "\n",
    "connected_components = list(trim.split(only_watertight=False))\n",
    "connected_components.sort(key=lambda x: len(x.faces), reverse=True)\n",
    "largest_component = connected_components[0]"
   ]
  },
  {
   "cell_type": "code",
   "execution_count": 21,
   "id": "c60f07c7-4a4f-4c84-992b-016782a648d9",
   "metadata": {},
   "outputs": [],
   "source": [
    "m = trimesh_to_manifold(largest_component)\n",
    "# jd.display(m)"
   ]
  },
  {
   "cell_type": "code",
   "execution_count": 22,
   "id": "583a93f4-6aa2-454b-a14d-8f5145c3d9b8",
   "metadata": {},
   "outputs": [
    {
     "data": {
      "application/vnd.jupyter.widget-view+json": {
       "model_id": "8c35b9182ccc464091ad99d676deb262",
       "version_major": 2,
       "version_minor": 0
      },
      "text/plain": [
       "FigureWidget({\n",
       "    'data': [{'color': '#dddddd',\n",
       "              'flatshading': False,\n",
       "              'i': array([    0,  1979,     1, ..., 85695, 84830, 86125]),\n",
       "              'j': array([58160,     1,   100, ..., 85704, 85701, 86136]),\n",
       "              'k': array([58216,     2,     2, ..., 86125, 86067, 85695]),\n",
       "              'type': 'mesh3d',\n",
       "              'uid': 'd377d691-6717-4995-9255-cc54eb89fc21',\n",
       "              'x': array([ 8.243047  , 98.90749675, 99.0224553 , ..., 60.81875765, 61.72792847,\n",
       "                          61.70226988]),\n",
       "              'y': array([ 46.56330445,  31.91128641,  31.87554667, ..., 100.32576542,\n",
       "                           85.15395816, 100.31327079]),\n",
       "              'z': array([70.81687936, 53.02628619, 52.55768971, ..., 31.27335124, 66.71382816,\n",
       "                          28.09269053])},\n",
       "             {'hoverinfo': 'none',\n",
       "              'line': {'color': 'rgb(125,0,0)', 'width': 1},\n",
       "              'mode': 'lines',\n",
       "              'type': 'scatter3d',\n",
       "              'uid': 'ceee80d6-5f49-470d-9f74-e48e2e898484',\n",
       "              'x': array([8.243047000893654, 8.075892182341798, None, ..., 61.10237884154042,\n",
       "                          61.282966331489455, None], dtype=object),\n",
       "              'y': array([46.563304449782144, 47.01148206126625, None, ..., 89.47668170392751,\n",
       "                          90.26584672957493, None], dtype=object),\n",
       "              'z': array([70.81687936114575, 70.47098621765697, None, ..., 66.89336273730693,\n",
       "                          66.84633024317642, None], dtype=object)}],\n",
       "    'layout': {'height': 800, 'scene': {'aspectmode': 'data'}, 'template': '...', 'width': 850}\n",
       "})"
      ]
     },
     "execution_count": 22,
     "metadata": {},
     "output_type": "execute_result"
    }
   ],
   "source": [
    "smoothed = hmesh.Manifold(m)\n",
    "smooth(smoothed, max_iter=40)\n",
    "# hmesh.quadric_simplify(smoothed, 0.7)\n",
    "# smoothed.cleanup()\n",
    "jd.display(smoothed)"
   ]
  },
  {
   "cell_type": "code",
   "execution_count": 46,
   "id": "42c85162-6b64-4fe5-bfb1-8189a398a1e4",
   "metadata": {},
   "outputs": [],
   "source": [
    "hmesh.quadric_simplify(smoothed, 0.5)\n",
    "hmesh.triangulate(smoothed)\n",
    "hmesh.flip_orientation(smoothed)\n",
    "smoothed.cleanup()"
   ]
  },
  {
   "cell_type": "code",
   "execution_count": 47,
   "id": "9e781ce7-dce5-4dfc-bbb1-620d676c62a3",
   "metadata": {},
   "outputs": [
    {
     "data": {
      "application/vnd.jupyter.widget-view+json": {
       "model_id": "5b7d74ec72b64932a49fb531de4d2b17",
       "version_major": 2,
       "version_minor": 0
      },
      "text/plain": [
       "FigureWidget({\n",
       "    'data': [{'color': '#dddddd',\n",
       "              'flatshading': False,\n",
       "              'i': array([    0,     1,    12, ..., 41026, 42933, 42968]),\n",
       "              'j': array([30627,  3025,     1, ..., 42249, 42932, 42249]),\n",
       "              'k': array([30582,     2,     2, ..., 42270, 42163, 41026]),\n",
       "              'type': 'mesh3d',\n",
       "              'uid': '7e511d8e-1ffe-4756-9254-e970f2a70e54',\n",
       "              'x': array([ 8.24689899, 97.07290547, 97.56529548, ..., 62.18336203, 63.17472736,\n",
       "                          62.980594  ]),\n",
       "              'y': array([ 46.56657802,  23.96299103,  25.20802397, ..., 118.14443373,\n",
       "                           69.0067552 , 119.30355124]),\n",
       "              'z': array([70.81536323, 50.7526936 , 52.25511055, ..., 59.11804666, 56.73657204,\n",
       "                          58.62126573])},\n",
       "             {'hoverinfo': 'none',\n",
       "              'line': {'color': 'rgb(125,0,0)', 'width': 1},\n",
       "              'mode': 'lines',\n",
       "              'type': 'scatter3d',\n",
       "              'uid': '483f0080-0483-4dab-802b-d405acbc2035',\n",
       "              'x': array([8.246898991935696, 8.07478211501596, None, ..., 62.22015163327907,\n",
       "                          60.613509595652665, None], dtype=object),\n",
       "              'y': array([46.56657801815649, 46.95305594961735, None, ..., 120.57222257660467,\n",
       "                          119.29926923281198, None], dtype=object),\n",
       "              'z': array([70.81536322995677, 70.97499828266366, None, ..., 41.01354019146963,\n",
       "                          41.3382111139833, None], dtype=object)}],\n",
       "    'layout': {'height': 800, 'scene': {'aspectmode': 'data'}, 'template': '...', 'width': 850}\n",
       "})"
      ]
     },
     "execution_count": 47,
     "metadata": {},
     "output_type": "execute_result"
    }
   ],
   "source": [
    "jd.display(smoothed)"
   ]
  },
  {
   "cell_type": "code",
   "execution_count": 48,
   "id": "aa03a6df-56f2-4625-ab93-cd2f672483bc",
   "metadata": {},
   "outputs": [],
   "source": [
    "hmesh.obj_save(\"x19_zoom_mesh.obj\", smoothed)"
   ]
  },
  {
   "cell_type": "code",
   "execution_count": null,
   "id": "8def065d-512b-41cc-9d36-1689ca2e8f35",
   "metadata": {},
   "outputs": [],
   "source": []
  }
 ],
 "metadata": {
  "kernelspec": {
   "display_name": "Python 3 (ipykernel)",
   "language": "python",
   "name": "python3"
  },
  "language_info": {
   "codemirror_mode": {
    "name": "ipython",
    "version": 3
   },
   "file_extension": ".py",
   "mimetype": "text/x-python",
   "name": "python",
   "nbconvert_exporter": "python",
   "pygments_lexer": "ipython3",
   "version": "3.10.9"
  }
 },
 "nbformat": 4,
 "nbformat_minor": 5
}
