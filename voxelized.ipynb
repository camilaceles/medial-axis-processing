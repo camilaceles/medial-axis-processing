{
 "cells": [
  {
   "cell_type": "code",
   "execution_count": 4,
   "id": "7d8be0b1",
   "metadata": {},
   "outputs": [],
   "source": [
    "# Imports\n",
    "import matplotlib.pyplot as plt\n",
    "import numpy as np\n",
    "import nibabel as nib\n",
    "from time import perf_counter as time\n",
    "from scipy.interpolate import RegularGridInterpolator\n",
    "from matplotlib.colors import LightSource\n",
    "from mpl_toolkits.mplot3d.art3d import Poly3DCollection\n",
    "from skimage import measure\n",
    "import scipy.ndimage\n",
    "import pickle\n",
    "\n",
    "from pygel3d import hmesh, jupyter_display as jd\n",
    "import plotly.graph_objs as go\n",
    "from commons.utils import *\n",
    "from medial_axis_processing import unfolding, inverse_apply\n",
    "from medial_axis_loader.shared import *\n",
    "from medial_axis_loader import from_medial_sheet\n",
    "from medial_axis_processing.volume_sampling import *\n",
    "from commons.display import *"
   ]
  },
  {
   "cell_type": "code",
   "execution_count": 5,
   "id": "2d2f8926-0d16-419a-8ad5-437b667fb437",
   "metadata": {},
   "outputs": [],
   "source": [
    "%load_ext autoreload\n",
    "%autoreload 2"
   ]
  },
  {
   "cell_type": "markdown",
   "id": "d3dc57d6-7108-454b-84d2-328c03d052eb",
   "metadata": {},
   "source": [
    "## Load volumetric data"
   ]
  },
  {
   "cell_type": "code",
   "execution_count": 25,
   "id": "97c00c03-8cec-4b70-932c-57e361328664",
   "metadata": {},
   "outputs": [],
   "source": [
    "volume_data_path = 'data/vindelev/X19_resampled_uint8.nii'\n",
    "niiVol = nib.load(volume_data_path)"
   ]
  },
  {
   "cell_type": "code",
   "execution_count": 26,
   "id": "05fe699f-0bfd-4b07-b7ad-90fda1373c33",
   "metadata": {},
   "outputs": [],
   "source": [
    "def rescale_max_vectorized(data, scale_factor, cval=0.0):\n",
    "    pad_width = [(0, (scale_factor - dim % scale_factor) % scale_factor) for dim in data.shape]\n",
    "    \n",
    "    padded_data = np.pad(data, pad_width, mode='constant', constant_values=cval)\n",
    "    \n",
    "    new_shape = (padded_data.shape[0] // scale_factor, scale_factor,\n",
    "                 padded_data.shape[1] // scale_factor, scale_factor,\n",
    "                 padded_data.shape[2] // scale_factor, scale_factor)\n",
    "    \n",
    "    reshaped_data = padded_data.reshape(new_shape)\n",
    "    reshaped_data = reshaped_data.max(axis=1).max(axis=2).max(axis=3)\n",
    "    \n",
    "    return reshaped_data"
   ]
  },
  {
   "cell_type": "code",
   "execution_count": 27,
   "id": "ee415fbb-be67-4112-9804-3533e7feb3e1",
   "metadata": {},
   "outputs": [],
   "source": [
    "affine = niiVol.affine\n",
    "imgSpacing = niiVol.header['pixdim'][1:4]\n",
    "\n",
    "# Downsample\n",
    "downsample_factor = 12\n",
    "affine[0, 0] = affine[0, 0] * downsample_factor\n",
    "affine[1, 1] = affine[1, 1] * downsample_factor\n",
    "affine[2, 2] = affine[2, 2] * downsample_factor\n",
    "imgSpacing = imgSpacing * downsample_factor\n",
    "\n",
    "vol = niiVol.get_fdata().astype('float32') #scipy.ndimage.zoom(niiVol.get_fdata().astype('float32'), 1 / downsample_factor, order=2)\n",
    "vol = rescale_max_vectorized(vol, downsample_factor)\n",
    "imgDim = vol.shape\n",
    "\n",
    "intMethod = 'linear'  # Options: \"linear\", \"nearest\", \"slinear\", \"cubic\", \"quintic\" and \"pchip\"\n",
    "expVal = 0.0  # Value for extrapolation (i.e. values outside volume domain)\n",
    "x = np.arange(start=0, stop=imgDim[0], step=1) * imgSpacing[0] + affine[0, 3]\n",
    "y = np.arange(start=0, stop=imgDim[1], step=1) * imgSpacing[1] + affine[1, 3]\n",
    "z = np.arange(start=0, stop=imgDim[2], step=1) * imgSpacing[2] + affine[2, 3]\n",
    "\n",
    "F_vol = RegularGridInterpolator((x, y, z), vol, method=intMethod, bounds_error=False, fill_value=expVal)"
   ]
  },
  {
   "cell_type": "code",
   "execution_count": 35,
   "id": "d9665a2d-93b0-4f0f-9d29-eda528007aad",
   "metadata": {},
   "outputs": [],
   "source": [
    "import trimesh\n",
    "threshold = 130\n",
    "vertices_f, faces_f, _,_ = measure.marching_cubes(vol > threshold , 0.5)\n",
    "trim = trimesh.Trimesh(vertices_f, faces_f)\n",
    "\n",
    "connected_components = list(trim.split(only_watertight=False))\n",
    "connected_components.sort(key=lambda x: len(x.faces), reverse=True)\n",
    "largest_component = connected_components[0]"
   ]
  },
  {
   "cell_type": "code",
   "execution_count": 36,
   "id": "c60f07c7-4a4f-4c84-992b-016782a648d9",
   "metadata": {},
   "outputs": [
    {
     "data": {
      "application/vnd.jupyter.widget-view+json": {
       "model_id": "0b247c8b6e3c4009a612590560c0a262",
       "version_major": 2,
       "version_minor": 0
      },
      "text/plain": [
       "FigureWidget({\n",
       "    'data': [{'color': '#dddddd',\n",
       "              'flatshading': False,\n",
       "              'i': array([    0,    24,     2, ..., 87717, 91475, 87717]),\n",
       "              'j': array([61894,     1,     1, ..., 91483, 91509, 91491]),\n",
       "              'k': array([61962,     2,  2054, ..., 91491, 91476, 91500]),\n",
       "              'type': 'mesh3d',\n",
       "              'uid': 'af0d3561-1d6e-4388-ae2f-bc0f7d93c1d1',\n",
       "              'x': array([ 4. , 94. , 93.5, ..., 59. , 60. , 60. ]),\n",
       "              'y': array([ 43.5, 121. , 122. , ..., 100.5,  48.5, 100.5]),\n",
       "              'z': array([69. , 48.5, 49. , ..., 30. , 55. , 20. ])},\n",
       "             {'hoverinfo': 'none',\n",
       "              'line': {'color': 'rgb(125,0,0)', 'width': 1},\n",
       "              'mode': 'lines',\n",
       "              'type': 'scatter3d',\n",
       "              'uid': '6593b5b6-71ff-41f6-9dd4-0f5280be9b3d',\n",
       "              'x': array([4.0, 4.0, None, ..., 59.5, 60.0, None], dtype=object),\n",
       "              'y': array([43.5, 44.0, None, ..., 100.0, 100.5, None], dtype=object),\n",
       "              'z': array([69.0, 68.5, None, ..., 22.0, 21.0, None], dtype=object)}],\n",
       "    'layout': {'height': 800, 'scene': {'aspectmode': 'data'}, 'template': '...', 'width': 850}\n",
       "})"
      ]
     },
     "execution_count": 36,
     "metadata": {},
     "output_type": "execute_result"
    }
   ],
   "source": [
    "m = trimesh_to_manifold(largest_component)\n",
    "jd.display(m)"
   ]
  },
  {
   "cell_type": "code",
   "execution_count": 37,
   "id": "aa03a6df-56f2-4625-ab93-cd2f672483bc",
   "metadata": {},
   "outputs": [],
   "source": [
    "hmesh.off_save(\"x19_zoom_mesh.off\", m)"
   ]
  },
  {
   "cell_type": "code",
   "execution_count": 19,
   "id": "583a93f4-6aa2-454b-a14d-8f5145c3d9b8",
   "metadata": {},
   "outputs": [
    {
     "data": {
      "application/vnd.jupyter.widget-view+json": {
       "model_id": "19d9fa46488a4e9fba256132cef7b703",
       "version_major": 2,
       "version_minor": 0
      },
      "text/plain": [
       "FigureWidget({\n",
       "    'data': [{'color': '#dddddd',\n",
       "              'flatshading': False,\n",
       "              'i': array([    0,     4,     1, ..., 91919, 91921, 91921]),\n",
       "              'j': array([    9,    62,    62, ..., 91966, 91966, 91967]),\n",
       "              'k': array([    1,     1,     0, ..., 91921, 91967, 91924]),\n",
       "              'type': 'mesh3d',\n",
       "              'uid': '65797ace-e7d8-4a47-a082-727f05d5a2f1',\n",
       "              'x': array([  4.49783258,   3.94167638,   4.07722959, ..., 126.19767574,\n",
       "                          126.18046809, 126.15218011]),\n",
       "              'y': array([43.89654762, 44.43592161, 44.35898129, ..., 91.6476096 , 91.42575478,\n",
       "                          90.68793691]),\n",
       "              'z': array([68.80674981, 69.20726433, 70.81388322, ..., 54.87434807, 55.85293165,\n",
       "                          56.4804361 ])},\n",
       "             {'hoverinfo': 'none',\n",
       "              'line': {'color': 'rgb(125,0,0)', 'width': 1},\n",
       "              'mode': 'lines',\n",
       "              'type': 'scatter3d',\n",
       "              'uid': 'f88c295f-0693-4b5b-800e-a23c5080dd2e',\n",
       "              'x': array([4.497832577475435, 4.1464897959183675, None, ..., 126.1804680919987,\n",
       "                          125.957358276644, None], dtype=object),\n",
       "              'y': array([43.896547619047624, 44.35052607709751, None, ..., 91.4257547781017,\n",
       "                          92.28752645502645, None], dtype=object),\n",
       "              'z': array([68.80674981103552, 68.43969160997733, None, ..., 55.85293164885002,\n",
       "                          55.57353930461073, None], dtype=object)}],\n",
       "    'layout': {'height': 800, 'scene': {'aspectmode': 'data'}, 'template': '...', 'width': 850}\n",
       "})"
      ]
     },
     "execution_count": 19,
     "metadata": {},
     "output_type": "execute_result"
    }
   ],
   "source": [
    "smoothed = hmesh.Manifold(m)\n",
    "smooth(smoothed, max_iter=3)\n",
    "jd.display(smoothed)"
   ]
  },
  {
   "cell_type": "code",
   "execution_count": null,
   "id": "1110814f-aeb4-4541-a284-4bb5376086f8",
   "metadata": {},
   "outputs": [],
   "source": []
  }
 ],
 "metadata": {
  "kernelspec": {
   "display_name": "Python 3 (ipykernel)",
   "language": "python",
   "name": "python3"
  },
  "language_info": {
   "codemirror_mode": {
    "name": "ipython",
    "version": 3
   },
   "file_extension": ".py",
   "mimetype": "text/x-python",
   "name": "python",
   "nbconvert_exporter": "python",
   "pygments_lexer": "ipython3",
   "version": "3.10.9"
  }
 },
 "nbformat": 4,
 "nbformat_minor": 5
}
